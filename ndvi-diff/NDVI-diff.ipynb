{
 "cells": [
  {
   "cell_type": "markdown",
   "metadata": {},
   "source": [
    "# NDVI Calculation"
   ]
  },
  {
   "cell_type": "code",
   "execution_count": 1,
   "metadata": {},
   "outputs": [],
   "source": [
    "import sys\n",
    "sys.path.append('../')"
   ]
  },
  {
   "cell_type": "code",
   "execution_count": 2,
   "metadata": {},
   "outputs": [],
   "source": [
    "import datetime as dt\n",
    "from pathlib import Path\n",
    "import matplotlib.pyplot as plt\n",
    "import numpy as np\n",
    "import rasterio\n",
    "import lithops\n",
    "import time\n",
    "import shutil\n",
    "import os\n",
    "import gc\n",
    "import datetime\n",
    "import collections\n",
    "from rasterio.io import MemoryFile\n",
    "from concurrent.futures import ThreadPoolExecutor\n",
    "from PIL import Image\n",
    "from IPython import display\n",
    "\n",
    "import cloudbutton_geospatial.s2froms3 as s2froms3\n",
    "from cloudbutton_geospatial.utils import notebook as notebook_utils\n",
    "from cloudbutton_geospatial.io_utils.ndvi import get_ndvi_params, ndvi_calculation, ndvi_tile_sentinel, get_subset_raster, lonlat_to_utm, get_poly_within\n",
    "from cloudbutton_geospatial.io_utils.plot import tiff_overview, plot_map\n",
    "\n",
    "%matplotlib inline"
   ]
  },
  {
   "cell_type": "markdown",
   "metadata": {},
   "source": [
    "## Input parameters"
   ]
  },
  {
   "cell_type": "markdown",
   "metadata": {},
   "source": [
    "Select the date interval in which tiles will be processed:"
   ]
  },
  {
   "cell_type": "code",
   "execution_count": 3,
   "metadata": {},
   "outputs": [
    {
     "data": {
      "application/vnd.jupyter.widget-view+json": {
       "model_id": "c53c1bd3d32748d397e8581eb16b8073",
       "version_major": 2,
       "version_minor": 0
      },
      "text/plain": [
       "DatePicker(value=datetime.date(2019, 9, 17), description='From day')"
      ]
     },
     "metadata": {},
     "output_type": "display_data"
    },
    {
     "data": {
      "application/vnd.jupyter.widget-view+json": {
       "model_id": "29b865800cc143c68a36c6f8d8ad260f",
       "version_major": 2,
       "version_minor": 0
      },
      "text/plain": [
       "DatePicker(value=datetime.date(2020, 9, 16), description='To day')"
      ]
     },
     "metadata": {},
     "output_type": "display_data"
    }
   ],
   "source": [
    "default_from = datetime.date(year=2019, month=9, day=17)\n",
    "default_to = datetime.date(year=2020, month=9, day=16)\n",
    "\n",
    "from_date, to_date = notebook_utils.pick_date_range(default_from, default_to)"
   ]
  },
  {
   "cell_type": "markdown",
   "metadata": {},
   "source": [
    "Select the tile's cloud percentage threshold:"
   ]
  },
  {
   "cell_type": "code",
   "execution_count": 4,
   "metadata": {},
   "outputs": [
    {
     "data": {
      "application/vnd.jupyter.widget-view+json": {
       "model_id": "7760f7630d8f420986db5f8869aeafc5",
       "version_major": 2,
       "version_minor": 0
      },
      "text/plain": [
       "IntSlider(value=15, continuous_update=False, description='Percentage of cloudiness')"
      ]
     },
     "metadata": {},
     "output_type": "display_data"
    }
   ],
   "source": [
    "percentage = notebook_utils.pick_percentage_slider()"
   ]
  },
  {
   "cell_type": "markdown",
   "metadata": {},
   "source": [
    "## Find tiles"
   ]
  },
  {
   "cell_type": "markdown",
   "metadata": {},
   "source": [
    "Select the area which delimites the tiles you want to process (left click to mark a point in the map, right click to erase current selection):"
   ]
  },
  {
   "cell_type": "code",
   "execution_count": 5,
   "metadata": {},
   "outputs": [],
   "source": [
    "# map_region = notebook_utils.MapRegion(center=(39.60595289727246, -122.82804126978336))"
   ]
  },
  {
   "cell_type": "code",
   "execution_count": 6,
   "metadata": {},
   "outputs": [],
   "source": [
    "# coord = map_region.get_region()[0]\n",
    "# lat = coord[1]  # latitude\n",
    "# lon = coord[0]  # longitude\n",
    "# print(lat, lon)"
   ]
  },
  {
   "cell_type": "code",
   "execution_count": 7,
   "metadata": {},
   "outputs": [],
   "source": [
    "start_date = from_date.value  # Start date to search images\n",
    "end_date = to_date.value  # End date to search images\n",
    "what = ['B04', 'B08']  # What we want to download\n",
    "cc = percentage.value  # Minimum cloud cover on each image, 25 is 25%"
   ]
  },
  {
   "cell_type": "code",
   "execution_count": 8,
   "metadata": {},
   "outputs": [],
   "source": [
    "# Demonstration: Californa tile coords\n",
    "cali_coords = [\n",
    "    [38.510161585585045, -122.99194335937501],\n",
    "    [36.071996052851325, -121.25610351562501],\n",
    "    [36.96374622851412, -121.46484375000001],\n",
    "    [37.575739257598414, -121.55273437500001],\n",
    "    [39.15202827678992, -122.62939453125001],\n",
    "    [39.703620879017976, -123.12377929687501],\n",
    "    [36.74397383313428, -119.94873046875001],\n",
    "    [38.472809653752314, -121.60766601562501]\n",
    "]"
   ]
  },
  {
   "cell_type": "markdown",
   "metadata": {},
   "source": [
    "## Get Sentinel-2 packages"
   ]
  },
  {
   "cell_type": "code",
   "execution_count": 9,
   "metadata": {
    "tags": []
   },
   "outputs": [
    {
     "name": "stdout",
     "output_type": "stream",
     "text": [
      "Found scenes 2019-09-17: [('sentinel-cogs/sentinel-s2-l2a-cogs/10/S/EH/2019/9/S2A_10SEH_20190917_0_L2A/B04.tif', 'sentinel-cogs/sentinel-s2-l2a-cogs/10/S/EH/2019/9/S2A_10SEH_20190917_0_L2A/B08.tif')]\n",
      "Found scenes 2020-09-16: [('sentinel-cogs/sentinel-s2-l2a-cogs/10/S/EH/2020/9/S2B_10SEH_20200916_0_L2A/B04.tif', 'sentinel-cogs/sentinel-s2-l2a-cogs/10/S/EH/2020/9/S2B_10SEH_20200916_0_L2A/B08.tif')]\n",
      "Found scenes 2019-09-17: [('sentinel-cogs/sentinel-s2-l2a-cogs/10/S/FE/2019/9/S2A_10SFE_20190917_0_L2A/B04.tif', 'sentinel-cogs/sentinel-s2-l2a-cogs/10/S/FE/2019/9/S2A_10SFE_20190917_0_L2A/B08.tif')]\n",
      "Found scenes 2020-09-16: [('sentinel-cogs/sentinel-s2-l2a-cogs/10/S/FE/2020/9/S2B_10SFE_20200916_0_L2A/B04.tif', 'sentinel-cogs/sentinel-s2-l2a-cogs/10/S/FE/2020/9/S2B_10SFE_20200916_0_L2A/B08.tif')]\n",
      "Found scenes 2019-09-17: [('sentinel-cogs/sentinel-s2-l2a-cogs/10/S/FF/2019/9/S2A_10SFF_20190917_0_L2A/B04.tif', 'sentinel-cogs/sentinel-s2-l2a-cogs/10/S/FF/2019/9/S2A_10SFF_20190917_0_L2A/B08.tif')]\n",
      "Found scenes 2020-09-16: [('sentinel-cogs/sentinel-s2-l2a-cogs/10/S/FF/2020/9/S2B_10SFF_20200916_0_L2A/B04.tif', 'sentinel-cogs/sentinel-s2-l2a-cogs/10/S/FF/2020/9/S2B_10SFF_20200916_0_L2A/B08.tif')]\n",
      "Found scenes 2019-09-17: [('sentinel-cogs/sentinel-s2-l2a-cogs/10/S/FG/2019/9/S2A_10SFG_20190917_0_L2A/B04.tif', 'sentinel-cogs/sentinel-s2-l2a-cogs/10/S/FG/2019/9/S2A_10SFG_20190917_0_L2A/B08.tif')]\n",
      "Found scenes 2020-09-16: [('sentinel-cogs/sentinel-s2-l2a-cogs/10/S/FG/2020/9/S2B_10SFG_20200916_0_L2A/B04.tif', 'sentinel-cogs/sentinel-s2-l2a-cogs/10/S/FG/2020/9/S2B_10SFG_20200916_0_L2A/B08.tif')]\n",
      "Found scenes 2019-09-17: [('sentinel-cogs/sentinel-s2-l2a-cogs/10/S/EJ/2019/9/S2A_10SEJ_20190917_0_L2A/B04.tif', 'sentinel-cogs/sentinel-s2-l2a-cogs/10/S/EJ/2019/9/S2A_10SEJ_20190917_0_L2A/B08.tif')]\n",
      "Found scenes 2020-09-16: [('sentinel-cogs/sentinel-s2-l2a-cogs/10/S/EJ/2020/9/S2B_10SEJ_20200916_0_L2A/B04.tif', 'sentinel-cogs/sentinel-s2-l2a-cogs/10/S/EJ/2020/9/S2B_10SEJ_20200916_0_L2A/B08.tif')]\n",
      "Found scenes 2019-09-17: [('sentinel-cogs/sentinel-s2-l2a-cogs/10/S/DJ/2019/9/S2A_10SDJ_20190917_0_L2A/B04.tif', 'sentinel-cogs/sentinel-s2-l2a-cogs/10/S/DJ/2019/9/S2A_10SDJ_20190917_0_L2A/B08.tif')]\n",
      "Found scenes 2020-09-16: [('sentinel-cogs/sentinel-s2-l2a-cogs/10/S/DJ/2020/9/S2B_10SDJ_20200916_0_L2A/B04.tif', 'sentinel-cogs/sentinel-s2-l2a-cogs/10/S/DJ/2020/9/S2B_10SDJ_20200916_0_L2A/B08.tif')]\n",
      "Found scenes 2019-09-17: [('sentinel-cogs/sentinel-s2-l2a-cogs/11/S/KA/2019/9/S2A_11SKA_20190917_0_L2A/B04.tif', 'sentinel-cogs/sentinel-s2-l2a-cogs/11/S/KA/2019/9/S2A_11SKA_20190917_0_L2A/B08.tif')]\n",
      "Found scenes 2020-09-16: [('sentinel-cogs/sentinel-s2-l2a-cogs/11/S/KA/2020/9/S2B_11SKA_20200916_0_L2A/B04.tif', 'sentinel-cogs/sentinel-s2-l2a-cogs/11/S/KA/2020/9/S2B_11SKA_20200916_0_L2A/B08.tif')]\n",
      "Found scenes 2019-09-17: [('sentinel-cogs/sentinel-s2-l2a-cogs/10/S/FH/2019/9/S2A_10SFH_20190917_0_L2A/B04.tif', 'sentinel-cogs/sentinel-s2-l2a-cogs/10/S/FH/2019/9/S2A_10SFH_20190917_0_L2A/B08.tif')]\n",
      "Found scenes 2020-09-16: [('sentinel-cogs/sentinel-s2-l2a-cogs/10/S/FH/2020/9/S2B_10SFH_20200916_0_L2A/B04.tif', 'sentinel-cogs/sentinel-s2-l2a-cogs/10/S/FH/2020/9/S2B_10SFH_20200916_0_L2A/B08.tif')]\n"
     ]
    }
   ],
   "source": [
    "iterdata = []\n",
    "scenes_f1_all = []\n",
    "scenes_f2_all = []\n",
    "\n",
    "# coords = map_region.get_region()[1:]\n",
    "coords = cali_coords\n",
    "\n",
    "for coord in coords:\n",
    "    lat = coord[0]  # latitude\n",
    "    lon = coord[1]  # longitude\n",
    "      \n",
    "    # Get scenes from intital date\n",
    "    scenes_f1 = s2froms3.get_scene_list(lon=lon, lat=lat,\n",
    "                                        start_date=start_date,\n",
    "                                        end_date=start_date,\n",
    "                                        what=what,\n",
    "                                        cloud_cover_le=cc)\n",
    "    scenes_f1_all.extend(scenes_f1)\n",
    "    print(f'Found scenes {start_date}:', scenes_f1)\n",
    "\n",
    "    # get scenes from end date\n",
    "    scenes_f2 = s2froms3.get_scene_list(lon=lon, lat=lat,\n",
    "                                        start_date=end_date,\n",
    "                                        end_date=end_date,\n",
    "                                        what=what,\n",
    "                                        cloud_cover_le=cc)\n",
    "    print(f'Found scenes {end_date}:', scenes_f2)\n",
    "    scenes_f2_all.extend(scenes_f2)\n",
    "\n",
    "    scene = scenes_f1[-1]\n",
    "    scene_band = rasterio.open('s3://'+scene[0])\n",
    "    windows = list(scene_band.block_windows())\n",
    "    tile_iterdata = [(scenes_f1[0], scenes_f2[0], wd) for wd in windows]\n",
    "    iterdata.extend(tile_iterdata)"
   ]
  },
  {
   "cell_type": "code",
   "execution_count": 10,
   "metadata": {},
   "outputs": [],
   "source": [
    "tile_band_keys = [tup[0] for tup in scenes_f1_all]"
   ]
  },
  {
   "cell_type": "code",
   "execution_count": 11,
   "metadata": {},
   "outputs": [
    {
     "name": "stderr",
     "output_type": "stream",
     "text": [
      "2022-06-09 00:53:22,317 [INFO] lithops.config -- Lithops v2.6.0\n",
      "2022-06-09 00:53:22,391 [INFO] lithops.storage.backends.aws_s3.aws_s3 -- S3 client created - Region: us-east-1\n",
      "2022-06-09 00:53:23,230 [INFO] lithops.serverless.backends.aws_lambda.aws_lambda -- AWS Lambda client created - Region: us-east-1\n"
     ]
    }
   ],
   "source": [
    "fexec = lithops.FunctionExecutor(\n",
    "        backend='aws_lambda',\n",
    "        storage='aws_s3',\n",
    "        log_level='INFO',\n",
    "        runtime_memory=1024,\n",
    "        runtime='aitorarjona/cloudbutton-ndvi:01'  # Runtime for AWS Lambda\n",
    ")"
   ]
  },
  {
   "cell_type": "code",
   "execution_count": 12,
   "metadata": {},
   "outputs": [],
   "source": [
    "def get_tile_meta(key):\n",
    "    with rasterio.open('s3://'+key) as src:\n",
    "        x1, y1 = src.profile['transform'] * (0, 0)\n",
    "        x2, y2 = src.profile['transform'] * (src.profile['width'], src.profile['height'])\n",
    "    return key, (x1, y1), (x2, y2)"
   ]
  },
  {
   "cell_type": "code",
   "execution_count": 13,
   "metadata": {},
   "outputs": [
    {
     "name": "stderr",
     "output_type": "stream",
     "text": [
      "2022-06-09 00:53:25,106 [INFO] lithops.invokers -- ExecutorID f0653f-0 | JobID M000 - Selected Runtime: aitorarjona/cloudbutton-ndvi:01 - 1024MB\n",
      "2022-06-09 00:53:25,713 [INFO] lithops.invokers -- ExecutorID f0653f-0 | JobID M000 - Starting function invocation: get_tile_meta() - Total: 8 activations\n",
      "2022-06-09 00:53:25,726 [INFO] lithops.invokers -- ExecutorID f0653f-0 | JobID M000 - View execution logs at /tmp/lithops/logs/f0653f-0-M000.log\n",
      "2022-06-09 00:53:25,729 [INFO] lithops.wait -- ExecutorID f0653f-0 - Getting results from 8 function activations\n"
     ]
    },
    {
     "data": {
      "application/vnd.jupyter.widget-view+json": {
       "model_id": "f9e2d6828af04a738ec71f3565a941b6",
       "version_major": 2,
       "version_minor": 0
      },
      "text/plain": [
       "    0%|          | 0/8  "
      ]
     },
     "metadata": {},
     "output_type": "display_data"
    },
    {
     "name": "stderr",
     "output_type": "stream",
     "text": [
      "2022-06-09 00:53:30,066 [INFO] lithops.executors -- ExecutorID f0653f-0 - Cleaning temporary data\n"
     ]
    }
   ],
   "source": [
    "fs_meta = fexec.map(get_tile_meta, tile_band_keys)\n",
    "tiles_meta = fexec.get_result(fs=fs_meta)"
   ]
  },
  {
   "cell_type": "code",
   "execution_count": 14,
   "metadata": {},
   "outputs": [],
   "source": [
    "# tiles_meta"
   ]
  },
  {
   "cell_type": "code",
   "execution_count": 15,
   "metadata": {},
   "outputs": [
    {
     "data": {
      "application/vnd.jupyter.widget-view+json": {
       "model_id": "d4f3f7e3f4564d80a2cc3af3808ef5da",
       "version_major": 2,
       "version_minor": 0
      },
      "text/plain": [
       "Map(center=[38.14108, -122.126583], controls=(ZoomControl(options=['position', 'zoom_in_text', 'zoom_in_title'…"
      ]
     },
     "metadata": {},
     "output_type": "display_data"
    }
   ],
   "source": [
    "import ipyleaflet\n",
    "import ipywidgets\n",
    "import utm\n",
    "\n",
    "m = ipyleaflet.Map(center=(38.141080, -122.126583), zoom=6)\n",
    "\n",
    "for tile_id, bound1, bound2 in tiles_meta:\n",
    "    zone = int(tile_id.split('/')[7].split('_')[1][:2])\n",
    "    x1, y1 = bound1\n",
    "    x2, y2 = bound2\n",
    "    xc, yc = (x1 + x2) / 2, y1\n",
    "    \n",
    "    wgs_bounds_1 = utm.to_latlon(x1, y1, zone, northern=True)\n",
    "    wgs_bounds_2 = utm.to_latlon(x2, y2, zone, northern=True)\n",
    "    # wgs_bounds_c = utm.to_latlon(xc, yc, 30, 'S')\n",
    "\n",
    "    rectangle = ipyleaflet.Rectangle(bounds=(wgs_bounds_1, wgs_bounds_2))\n",
    "    m.add_layer(rectangle)    \n",
    "\n",
    "m.layout.height=\"750px\"\n",
    "\n",
    "m"
   ]
  },
  {
   "cell_type": "code",
   "execution_count": 19,
   "metadata": {},
   "outputs": [],
   "source": [
    "def calculate_ndvi(scene, ij_window, storage):\n",
    "    ij, window = ij_window\n",
    "    band_4_s3_loc, band_8_s3_loc = scene\n",
    "    band_path = band_4_s3_loc.split('/')\n",
    "    ndvi_local = f'/tmp/{band_path[7]}_{ij}_NDVI.tif'\n",
    "    jpg_local = f'/tmp/{band_path[7]}_{ij}_NDVI.jpg'\n",
    "\n",
    "    # generate nir and red objects as arrays in float64 format\n",
    "    band4 = rasterio.open('s3://'+band_4_s3_loc)  # red\n",
    "    band8 = rasterio.open('s3://'+band_8_s3_loc)  # nir\n",
    "\n",
    "    profile = band4.profile\n",
    "    profile.update(dtype='float64')\n",
    "    profile.update(width=window.width)\n",
    "    profile.update(height=window.height)\n",
    "\n",
    "    with rasterio.open(ndvi_local, 'w', **profile) as dst:\n",
    "        red = band4.read(1, window=window).astype('float64')\n",
    "        nir = band8.read(1, window=window).astype('float64')\n",
    "        ndvi = (np.where((nir + red) == 0., 0, (nir - red) / (nir + red))).astype('float64')\n",
    "        ndvi_mean = np.mean(ndvi, axis=0)\n",
    "        dst.write(ndvi, 1)\n",
    "        ndvi[0][0] = -1\n",
    "        ndvi[0][1] = 1\n",
    "        plt.imsave(jpg_local, ndvi, cmap=\"RdYlGn\")\n",
    "\n",
    "    with open(jpg_local, 'rb') as jpg_temp:\n",
    "        co_jpg = storage.put_cloudobject(jpg_temp.read(), key=jpg_local.replace('/tmp/', ''))\n",
    "\n",
    "    return ndvi_local, ndvi_mean, co_jpg\n",
    "\n",
    "\n",
    "def compute_ndvi_diff(old_scene, new_scene, ij_window, storage):\n",
    "    ij, window = ij_window\n",
    "    band_path = new_scene[0].split('/')\n",
    "    jpg_diff_local = f'/tmp/{band_path[7]}_{ij}_NDVI_DIFF.jpg'\n",
    "    key = old_scene[0].split('/')[7].rsplit('_', 3)[0]\n",
    "\n",
    "    ndvi_local_f1, ndvi_mean_f1, co_jpg_f1 = calculate_ndvi(old_scene, ij_window, storage)\n",
    "    ndvi_local_f2, ndvi_mean_f2, co_jpg_f2 = calculate_ndvi(new_scene, ij_window, storage)\n",
    "\n",
    "    ndvi_old = rasterio.open(ndvi_local_f1)\n",
    "    ndvi_new = rasterio.open(ndvi_local_f2)\n",
    "\n",
    "    profile = ndvi_old.profile\n",
    "    profile.update(dtype='float64')\n",
    "    profile.update(width=window.width)\n",
    "    profile.update(height=window.height)\n",
    "\n",
    "    no = ndvi_old.read(1).astype('float64')\n",
    "    nn = ndvi_new.read(1).astype('float64')\n",
    "    ndvi_cmp = ((nn - no) * (nn + no)).astype('float64')\n",
    "    ndvi_cmp[0][0] = -1\n",
    "    ndvi_cmp[0][1] = 1\n",
    "    plt.imsave(jpg_diff_local, ndvi_cmp, cmap=\"RdYlGn\")\n",
    "\n",
    "    with open(jpg_diff_local, 'rb') as jpg_diff_file:\n",
    "        co_jpg_diff = storage.put_cloudobject(jpg_diff_file, key=jpg_diff_local.replace('/tmp/', ''))\n",
    "\n",
    "    return key, ij_window, co_jpg_f1, co_jpg_f2, co_jpg_diff"
   ]
  },
  {
   "cell_type": "markdown",
   "metadata": {},
   "source": [
    "Using the selected parameters, get the identifiers of the selected tiles from Sentinel-2:"
   ]
  },
  {
   "cell_type": "code",
   "execution_count": 20,
   "metadata": {
    "tags": []
   },
   "outputs": [
    {
     "name": "stderr",
     "output_type": "stream",
     "text": [
      "2022-06-09 00:53:48,391 [INFO] lithops.invokers -- ExecutorID f0653f-0 | JobID M001 - Selected Runtime: aitorarjona/cloudbutton-ndvi:01 - 1024MB\n",
      "2022-06-09 00:53:49,119 [INFO] lithops.invokers -- ExecutorID f0653f-0 | JobID M001 - Starting function invocation: compute_ndvi_diff() - Total: 968 activations\n",
      "2022-06-09 00:53:49,445 [INFO] lithops.invokers -- ExecutorID f0653f-0 | JobID M001 - View execution logs at /tmp/lithops/logs/f0653f-0-M001.log\n",
      "2022-06-09 00:53:49,482 [INFO] lithops.wait -- ExecutorID f0653f-0 - Getting results from 968 function activations\n"
     ]
    },
    {
     "data": {
      "application/vnd.jupyter.widget-view+json": {
       "model_id": "f589d290f09d4a30a2a22f6556b72d7c",
       "version_major": 2,
       "version_minor": 0
      },
      "text/plain": [
       "    0%|          | 0/968  "
      ]
     },
     "metadata": {},
     "output_type": "display_data"
    },
    {
     "name": "stderr",
     "output_type": "stream",
     "text": [
      "2022-06-09 00:54:19,452 [INFO] lithops.executors -- ExecutorID f0653f-0 - Cleaning temporary data\n"
     ]
    },
    {
     "ename": "TimeoutError",
     "evalue": "Function exceeded maximum time of 25 seconds and was killed",
     "output_type": "error",
     "traceback": [
      "\u001b[0;31m---------------------------------------------------------------------------\u001b[0m",
      "\u001b[0;31mTimeoutError\u001b[0m                              Traceback (most recent call last)",
      "Input \u001b[0;32mIn [20]\u001b[0m, in \u001b[0;36m<cell line: 2>\u001b[0;34m()\u001b[0m\n\u001b[1;32m      1\u001b[0m fs \u001b[38;5;241m=\u001b[39m fexec\u001b[38;5;241m.\u001b[39mmap(compute_ndvi_diff, iterdata)\n\u001b[0;32m----> 2\u001b[0m results \u001b[38;5;241m=\u001b[39m \u001b[43mfexec\u001b[49m\u001b[38;5;241;43m.\u001b[39;49m\u001b[43mget_result\u001b[49m\u001b[43m(\u001b[49m\u001b[43mfs\u001b[49m\u001b[38;5;241;43m=\u001b[39;49m\u001b[43mfs\u001b[49m\u001b[43m)\u001b[49m\n",
      "File \u001b[0;32m~/anaconda3/envs/geospatial/lib/python3.9/site-packages/lithops/executors.py:466\u001b[0m, in \u001b[0;36mFunctionExecutor.get_result\u001b[0;34m(self, fs, throw_except, timeout, threadpool_size, wait_dur_sec)\u001b[0m\n\u001b[1;32m    450\u001b[0m \u001b[38;5;28;01mdef\u001b[39;00m \u001b[38;5;21mget_result\u001b[39m(\u001b[38;5;28mself\u001b[39m,\n\u001b[1;32m    451\u001b[0m                fs: Optional[Union[ResponseFuture, FuturesList, List[ResponseFuture]]] \u001b[38;5;241m=\u001b[39m \u001b[38;5;28;01mNone\u001b[39;00m,\n\u001b[1;32m    452\u001b[0m                throw_except: Optional[\u001b[38;5;28mbool\u001b[39m] \u001b[38;5;241m=\u001b[39m \u001b[38;5;28;01mTrue\u001b[39;00m,\n\u001b[1;32m    453\u001b[0m                timeout: Optional[\u001b[38;5;28mint\u001b[39m] \u001b[38;5;241m=\u001b[39m \u001b[38;5;28;01mNone\u001b[39;00m,\n\u001b[1;32m    454\u001b[0m                threadpool_size: Optional[\u001b[38;5;28mint\u001b[39m] \u001b[38;5;241m=\u001b[39m THREADPOOL_SIZE,\n\u001b[1;32m    455\u001b[0m                wait_dur_sec: Optional[\u001b[38;5;28mint\u001b[39m] \u001b[38;5;241m=\u001b[39m WAIT_DUR_SEC):\n\u001b[1;32m    456\u001b[0m     \u001b[38;5;124;03m\"\"\"\u001b[39;00m\n\u001b[1;32m    457\u001b[0m \u001b[38;5;124;03m    For getting the results from all function activations\u001b[39;00m\n\u001b[1;32m    458\u001b[0m \n\u001b[0;32m   (...)\u001b[0m\n\u001b[1;32m    464\u001b[0m \u001b[38;5;124;03m    :return: The result of the future/s\u001b[39;00m\n\u001b[1;32m    465\u001b[0m \u001b[38;5;124;03m    \"\"\"\u001b[39;00m\n\u001b[0;32m--> 466\u001b[0m     fs_done, _ \u001b[38;5;241m=\u001b[39m \u001b[38;5;28;43mself\u001b[39;49m\u001b[38;5;241;43m.\u001b[39;49m\u001b[43mwait\u001b[49m\u001b[43m(\u001b[49m\u001b[43mfs\u001b[49m\u001b[38;5;241;43m=\u001b[39;49m\u001b[43mfs\u001b[49m\u001b[43m,\u001b[49m\u001b[43m \u001b[49m\u001b[43mthrow_except\u001b[49m\u001b[38;5;241;43m=\u001b[39;49m\u001b[43mthrow_except\u001b[49m\u001b[43m,\u001b[49m\n\u001b[1;32m    467\u001b[0m \u001b[43m                           \u001b[49m\u001b[43mtimeout\u001b[49m\u001b[38;5;241;43m=\u001b[39;49m\u001b[43mtimeout\u001b[49m\u001b[43m,\u001b[49m\u001b[43m \u001b[49m\u001b[43mdownload_results\u001b[49m\u001b[38;5;241;43m=\u001b[39;49m\u001b[38;5;28;43;01mTrue\u001b[39;49;00m\u001b[43m,\u001b[49m\n\u001b[1;32m    468\u001b[0m \u001b[43m                           \u001b[49m\u001b[43mthreadpool_size\u001b[49m\u001b[38;5;241;43m=\u001b[39;49m\u001b[43mthreadpool_size\u001b[49m\u001b[43m,\u001b[49m\n\u001b[1;32m    469\u001b[0m \u001b[43m                           \u001b[49m\u001b[43mwait_dur_sec\u001b[49m\u001b[38;5;241;43m=\u001b[39;49m\u001b[43mwait_dur_sec\u001b[49m\u001b[43m)\u001b[49m\n\u001b[1;32m    470\u001b[0m     result \u001b[38;5;241m=\u001b[39m []\n\u001b[1;32m    471\u001b[0m     fs_done \u001b[38;5;241m=\u001b[39m [f \u001b[38;5;28;01mfor\u001b[39;00m f \u001b[38;5;129;01min\u001b[39;00m fs_done \u001b[38;5;28;01mif\u001b[39;00m \u001b[38;5;129;01mnot\u001b[39;00m f\u001b[38;5;241m.\u001b[39mfutures \u001b[38;5;129;01mand\u001b[39;00m f\u001b[38;5;241m.\u001b[39m_produce_output]\n",
      "File \u001b[0;32m~/anaconda3/envs/geospatial/lib/python3.9/site-packages/lithops/executors.py:439\u001b[0m, in \u001b[0;36mFunctionExecutor.wait\u001b[0;34m(self, fs, throw_except, return_when, download_results, timeout, threadpool_size, wait_dur_sec)\u001b[0m\n\u001b[1;32m    437\u001b[0m         \u001b[38;5;28mself\u001b[39m\u001b[38;5;241m.\u001b[39mcompute_handler\u001b[38;5;241m.\u001b[39mclear(present_jobs)\n\u001b[1;32m    438\u001b[0m         \u001b[38;5;28mself\u001b[39m\u001b[38;5;241m.\u001b[39mclean(clean_cloudobjects\u001b[38;5;241m=\u001b[39m\u001b[38;5;28;01mFalse\u001b[39;00m, force\u001b[38;5;241m=\u001b[39m\u001b[38;5;28;01mTrue\u001b[39;00m)\n\u001b[0;32m--> 439\u001b[0m     \u001b[38;5;28;01mraise\u001b[39;00m e\n\u001b[1;32m    441\u001b[0m \u001b[38;5;28;01mif\u001b[39;00m download_results:\n\u001b[1;32m    442\u001b[0m     fs_done \u001b[38;5;241m=\u001b[39m [f \u001b[38;5;28;01mfor\u001b[39;00m f \u001b[38;5;129;01min\u001b[39;00m futures \u001b[38;5;28;01mif\u001b[39;00m f\u001b[38;5;241m.\u001b[39mdone]\n",
      "File \u001b[0;32m~/anaconda3/envs/geospatial/lib/python3.9/site-packages/lithops/executors.py:415\u001b[0m, in \u001b[0;36mFunctionExecutor.wait\u001b[0;34m(self, fs, throw_except, return_when, download_results, timeout, threadpool_size, wait_dur_sec)\u001b[0m\n\u001b[1;32m    413\u001b[0m \u001b[38;5;66;03m# Start waiting for results\u001b[39;00m\n\u001b[1;32m    414\u001b[0m \u001b[38;5;28;01mtry\u001b[39;00m:\n\u001b[0;32m--> 415\u001b[0m     \u001b[43mwait\u001b[49m\u001b[43m(\u001b[49m\u001b[43mfs\u001b[49m\u001b[38;5;241;43m=\u001b[39;49m\u001b[43mfutures\u001b[49m\u001b[43m,\u001b[49m\n\u001b[1;32m    416\u001b[0m \u001b[43m         \u001b[49m\u001b[43minternal_storage\u001b[49m\u001b[38;5;241;43m=\u001b[39;49m\u001b[38;5;28;43mself\u001b[39;49m\u001b[38;5;241;43m.\u001b[39;49m\u001b[43minternal_storage\u001b[49m\u001b[43m,\u001b[49m\n\u001b[1;32m    417\u001b[0m \u001b[43m         \u001b[49m\u001b[43mjob_monitor\u001b[49m\u001b[38;5;241;43m=\u001b[39;49m\u001b[38;5;28;43mself\u001b[39;49m\u001b[38;5;241;43m.\u001b[39;49m\u001b[43mjob_monitor\u001b[49m\u001b[43m,\u001b[49m\n\u001b[1;32m    418\u001b[0m \u001b[43m         \u001b[49m\u001b[43mdownload_results\u001b[49m\u001b[38;5;241;43m=\u001b[39;49m\u001b[43mdownload_results\u001b[49m\u001b[43m,\u001b[49m\n\u001b[1;32m    419\u001b[0m \u001b[43m         \u001b[49m\u001b[43mthrow_except\u001b[49m\u001b[38;5;241;43m=\u001b[39;49m\u001b[43mthrow_except\u001b[49m\u001b[43m,\u001b[49m\n\u001b[1;32m    420\u001b[0m \u001b[43m         \u001b[49m\u001b[43mreturn_when\u001b[49m\u001b[38;5;241;43m=\u001b[39;49m\u001b[43mreturn_when\u001b[49m\u001b[43m,\u001b[49m\n\u001b[1;32m    421\u001b[0m \u001b[43m         \u001b[49m\u001b[43mtimeout\u001b[49m\u001b[38;5;241;43m=\u001b[39;49m\u001b[43mtimeout\u001b[49m\u001b[43m,\u001b[49m\n\u001b[1;32m    422\u001b[0m \u001b[43m         \u001b[49m\u001b[43mthreadpool_size\u001b[49m\u001b[38;5;241;43m=\u001b[39;49m\u001b[43mthreadpool_size\u001b[49m\u001b[43m,\u001b[49m\n\u001b[1;32m    423\u001b[0m \u001b[43m         \u001b[49m\u001b[43mwait_dur_sec\u001b[49m\u001b[38;5;241;43m=\u001b[39;49m\u001b[43mwait_dur_sec\u001b[49m\u001b[43m)\u001b[49m\n\u001b[1;32m    425\u001b[0m     \u001b[38;5;28;01mif\u001b[39;00m \u001b[38;5;28mself\u001b[39m\u001b[38;5;241m.\u001b[39mdata_cleaner \u001b[38;5;129;01mand\u001b[39;00m return_when \u001b[38;5;241m==\u001b[39m ALL_COMPLETED:\n\u001b[1;32m    426\u001b[0m         present_jobs \u001b[38;5;241m=\u001b[39m {f\u001b[38;5;241m.\u001b[39mjob_key \u001b[38;5;28;01mfor\u001b[39;00m f \u001b[38;5;129;01min\u001b[39;00m futures}\n",
      "File \u001b[0;32m~/anaconda3/envs/geospatial/lib/python3.9/site-packages/lithops/wait.py:156\u001b[0m, in \u001b[0;36mwait\u001b[0;34m(fs, internal_storage, job_monitor, throw_except, return_when, download_results, timeout, threadpool_size, wait_dur_sec)\u001b[0m\n\u001b[1;32m    153\u001b[0m     \u001b[38;5;28;01mraise\u001b[39;00m e\n\u001b[1;32m    155\u001b[0m \u001b[38;5;28;01mexcept\u001b[39;00m \u001b[38;5;167;01mException\u001b[39;00m \u001b[38;5;28;01mas\u001b[39;00m e:\n\u001b[0;32m--> 156\u001b[0m     \u001b[38;5;28;01mraise\u001b[39;00m e\n\u001b[1;32m    158\u001b[0m \u001b[38;5;28;01mfinally\u001b[39;00m:\n\u001b[1;32m    159\u001b[0m     \u001b[38;5;28;01mif\u001b[39;00m is_unix_system():\n",
      "File \u001b[0;32m~/anaconda3/envs/geospatial/lib/python3.9/site-packages/lithops/wait.py:137\u001b[0m, in \u001b[0;36mwait\u001b[0;34m(fs, internal_storage, job_monitor, throw_except, return_when, download_results, timeout, threadpool_size, wait_dur_sec)\u001b[0m\n\u001b[1;32m    135\u001b[0m         \u001b[38;5;28;01mwhile\u001b[39;00m \u001b[38;5;129;01mnot\u001b[39;00m _check_done(fs, return_when, download_results):\n\u001b[1;32m    136\u001b[0m             \u001b[38;5;28;01mfor\u001b[39;00m executor_data \u001b[38;5;129;01min\u001b[39;00m executors_data:\n\u001b[0;32m--> 137\u001b[0m                 new_data \u001b[38;5;241m=\u001b[39m \u001b[43m_get_executor_data\u001b[49m\u001b[43m(\u001b[49m\u001b[43mfs\u001b[49m\u001b[43m,\u001b[49m\u001b[43m \u001b[49m\u001b[43mexecutor_data\u001b[49m\u001b[43m,\u001b[49m\u001b[43m \u001b[49m\u001b[43mpbar\u001b[49m\u001b[38;5;241;43m=\u001b[39;49m\u001b[43mpbar\u001b[49m\u001b[43m,\u001b[49m\n\u001b[1;32m    138\u001b[0m \u001b[43m                                              \u001b[49m\u001b[43mthrow_except\u001b[49m\u001b[38;5;241;43m=\u001b[39;49m\u001b[43mthrow_except\u001b[49m\u001b[43m,\u001b[49m\n\u001b[1;32m    139\u001b[0m \u001b[43m                                              \u001b[49m\u001b[43mdownload_results\u001b[49m\u001b[38;5;241;43m=\u001b[39;49m\u001b[43mdownload_results\u001b[49m\u001b[43m,\u001b[49m\n\u001b[1;32m    140\u001b[0m \u001b[43m                                              \u001b[49m\u001b[43mthreadpool_size\u001b[49m\u001b[38;5;241;43m=\u001b[39;49m\u001b[43mthreadpool_size\u001b[49m\u001b[43m)\u001b[49m\n\u001b[1;32m    141\u001b[0m             time\u001b[38;5;241m.\u001b[39msleep(\u001b[38;5;241m0\u001b[39m \u001b[38;5;28;01mif\u001b[39;00m new_data \u001b[38;5;28;01melse\u001b[39;00m sleep_sec)\n\u001b[1;32m    143\u001b[0m \u001b[38;5;28;01mexcept\u001b[39;00m \u001b[38;5;167;01mKeyboardInterrupt\u001b[39;00m \u001b[38;5;28;01mas\u001b[39;00m e:\n",
      "File \u001b[0;32m~/anaconda3/envs/geospatial/lib/python3.9/site-packages/lithops/wait.py:277\u001b[0m, in \u001b[0;36m_get_executor_data\u001b[0;34m(fs, exec_data, download_results, throw_except, threadpool_size, pbar)\u001b[0m\n\u001b[1;32m    275\u001b[0m pool \u001b[38;5;241m=\u001b[39m cf\u001b[38;5;241m.\u001b[39mThreadPoolExecutor(max_workers\u001b[38;5;241m=\u001b[39mthreadpool_size)\n\u001b[1;32m    276\u001b[0m \u001b[38;5;28;01mif\u001b[39;00m download_results:\n\u001b[0;32m--> 277\u001b[0m     \u001b[38;5;28;43mlist\u001b[39;49m\u001b[43m(\u001b[49m\u001b[43mpool\u001b[49m\u001b[38;5;241;43m.\u001b[39;49m\u001b[43mmap\u001b[49m\u001b[43m(\u001b[49m\u001b[43mget_result\u001b[49m\u001b[43m,\u001b[49m\u001b[43m \u001b[49m\u001b[43mfs_to_wait_on\u001b[49m\u001b[43m)\u001b[49m\u001b[43m)\u001b[49m\n\u001b[1;32m    278\u001b[0m \u001b[38;5;28;01melse\u001b[39;00m:\n\u001b[1;32m    279\u001b[0m     \u001b[38;5;28mlist\u001b[39m(pool\u001b[38;5;241m.\u001b[39mmap(get_status, fs_to_wait_on))\n",
      "File \u001b[0;32m~/anaconda3/envs/geospatial/lib/python3.9/concurrent/futures/_base.py:609\u001b[0m, in \u001b[0;36mExecutor.map.<locals>.result_iterator\u001b[0;34m()\u001b[0m\n\u001b[1;32m    606\u001b[0m \u001b[38;5;28;01mwhile\u001b[39;00m fs:\n\u001b[1;32m    607\u001b[0m     \u001b[38;5;66;03m# Careful not to keep a reference to the popped future\u001b[39;00m\n\u001b[1;32m    608\u001b[0m     \u001b[38;5;28;01mif\u001b[39;00m timeout \u001b[38;5;129;01mis\u001b[39;00m \u001b[38;5;28;01mNone\u001b[39;00m:\n\u001b[0;32m--> 609\u001b[0m         \u001b[38;5;28;01myield\u001b[39;00m \u001b[43mfs\u001b[49m\u001b[38;5;241;43m.\u001b[39;49m\u001b[43mpop\u001b[49m\u001b[43m(\u001b[49m\u001b[43m)\u001b[49m\u001b[38;5;241;43m.\u001b[39;49m\u001b[43mresult\u001b[49m\u001b[43m(\u001b[49m\u001b[43m)\u001b[49m\n\u001b[1;32m    610\u001b[0m     \u001b[38;5;28;01melse\u001b[39;00m:\n\u001b[1;32m    611\u001b[0m         \u001b[38;5;28;01myield\u001b[39;00m fs\u001b[38;5;241m.\u001b[39mpop()\u001b[38;5;241m.\u001b[39mresult(end_time \u001b[38;5;241m-\u001b[39m time\u001b[38;5;241m.\u001b[39mmonotonic())\n",
      "File \u001b[0;32m~/anaconda3/envs/geospatial/lib/python3.9/concurrent/futures/_base.py:439\u001b[0m, in \u001b[0;36mFuture.result\u001b[0;34m(self, timeout)\u001b[0m\n\u001b[1;32m    437\u001b[0m     \u001b[38;5;28;01mraise\u001b[39;00m CancelledError()\n\u001b[1;32m    438\u001b[0m \u001b[38;5;28;01melif\u001b[39;00m \u001b[38;5;28mself\u001b[39m\u001b[38;5;241m.\u001b[39m_state \u001b[38;5;241m==\u001b[39m FINISHED:\n\u001b[0;32m--> 439\u001b[0m     \u001b[38;5;28;01mreturn\u001b[39;00m \u001b[38;5;28;43mself\u001b[39;49m\u001b[38;5;241;43m.\u001b[39;49m\u001b[43m__get_result\u001b[49m\u001b[43m(\u001b[49m\u001b[43m)\u001b[49m\n\u001b[1;32m    441\u001b[0m \u001b[38;5;28mself\u001b[39m\u001b[38;5;241m.\u001b[39m_condition\u001b[38;5;241m.\u001b[39mwait(timeout)\n\u001b[1;32m    443\u001b[0m \u001b[38;5;28;01mif\u001b[39;00m \u001b[38;5;28mself\u001b[39m\u001b[38;5;241m.\u001b[39m_state \u001b[38;5;129;01min\u001b[39;00m [CANCELLED, CANCELLED_AND_NOTIFIED]:\n",
      "File \u001b[0;32m~/anaconda3/envs/geospatial/lib/python3.9/concurrent/futures/_base.py:391\u001b[0m, in \u001b[0;36mFuture.__get_result\u001b[0;34m(self)\u001b[0m\n\u001b[1;32m    389\u001b[0m \u001b[38;5;28;01mif\u001b[39;00m \u001b[38;5;28mself\u001b[39m\u001b[38;5;241m.\u001b[39m_exception:\n\u001b[1;32m    390\u001b[0m     \u001b[38;5;28;01mtry\u001b[39;00m:\n\u001b[0;32m--> 391\u001b[0m         \u001b[38;5;28;01mraise\u001b[39;00m \u001b[38;5;28mself\u001b[39m\u001b[38;5;241m.\u001b[39m_exception\n\u001b[1;32m    392\u001b[0m     \u001b[38;5;28;01mfinally\u001b[39;00m:\n\u001b[1;32m    393\u001b[0m         \u001b[38;5;66;03m# Break a reference cycle with the exception in self._exception\u001b[39;00m\n\u001b[1;32m    394\u001b[0m         \u001b[38;5;28mself\u001b[39m \u001b[38;5;241m=\u001b[39m \u001b[38;5;28;01mNone\u001b[39;00m\n",
      "File \u001b[0;32m~/anaconda3/envs/geospatial/lib/python3.9/concurrent/futures/thread.py:58\u001b[0m, in \u001b[0;36m_WorkItem.run\u001b[0;34m(self)\u001b[0m\n\u001b[1;32m     55\u001b[0m     \u001b[38;5;28;01mreturn\u001b[39;00m\n\u001b[1;32m     57\u001b[0m \u001b[38;5;28;01mtry\u001b[39;00m:\n\u001b[0;32m---> 58\u001b[0m     result \u001b[38;5;241m=\u001b[39m \u001b[38;5;28;43mself\u001b[39;49m\u001b[38;5;241;43m.\u001b[39;49m\u001b[43mfn\u001b[49m\u001b[43m(\u001b[49m\u001b[38;5;241;43m*\u001b[39;49m\u001b[38;5;28;43mself\u001b[39;49m\u001b[38;5;241;43m.\u001b[39;49m\u001b[43margs\u001b[49m\u001b[43m,\u001b[49m\u001b[43m \u001b[49m\u001b[38;5;241;43m*\u001b[39;49m\u001b[38;5;241;43m*\u001b[39;49m\u001b[38;5;28;43mself\u001b[39;49m\u001b[38;5;241;43m.\u001b[39;49m\u001b[43mkwargs\u001b[49m\u001b[43m)\u001b[49m\n\u001b[1;32m     59\u001b[0m \u001b[38;5;28;01mexcept\u001b[39;00m \u001b[38;5;167;01mBaseException\u001b[39;00m \u001b[38;5;28;01mas\u001b[39;00m exc:\n\u001b[1;32m     60\u001b[0m     \u001b[38;5;28mself\u001b[39m\u001b[38;5;241m.\u001b[39mfuture\u001b[38;5;241m.\u001b[39mset_exception(exc)\n",
      "File \u001b[0;32m~/anaconda3/envs/geospatial/lib/python3.9/site-packages/lithops/wait.py:270\u001b[0m, in \u001b[0;36m_get_executor_data.<locals>.get_result\u001b[0;34m(f)\u001b[0m\n\u001b[1;32m    269\u001b[0m \u001b[38;5;28;01mdef\u001b[39;00m \u001b[38;5;21mget_result\u001b[39m(f):\n\u001b[0;32m--> 270\u001b[0m     \u001b[43mf\u001b[49m\u001b[38;5;241;43m.\u001b[39;49m\u001b[43mresult\u001b[49m\u001b[43m(\u001b[49m\u001b[43mthrow_except\u001b[49m\u001b[38;5;241;43m=\u001b[39;49m\u001b[43mthrow_except\u001b[49m\u001b[43m,\u001b[49m\u001b[43m \u001b[49m\u001b[43minternal_storage\u001b[49m\u001b[38;5;241;43m=\u001b[39;49m\u001b[43mexec_data\u001b[49m\u001b[38;5;241;43m.\u001b[39;49m\u001b[43minternal_storage\u001b[49m\u001b[43m)\u001b[49m\n",
      "File \u001b[0;32m~/anaconda3/envs/geospatial/lib/python3.9/site-packages/lithops/future.py:321\u001b[0m, in \u001b[0;36mResponseFuture.result\u001b[0;34m(self, throw_except, internal_storage)\u001b[0m\n\u001b[1;32m    318\u001b[0m \u001b[38;5;28;01mif\u001b[39;00m internal_storage \u001b[38;5;129;01mis\u001b[39;00m \u001b[38;5;28;01mNone\u001b[39;00m:\n\u001b[1;32m    319\u001b[0m     internal_storage \u001b[38;5;241m=\u001b[39m InternalStorage(storage_config\u001b[38;5;241m=\u001b[39m\u001b[38;5;28mself\u001b[39m\u001b[38;5;241m.\u001b[39m_storage_config)\n\u001b[0;32m--> 321\u001b[0m \u001b[38;5;28;43mself\u001b[39;49m\u001b[38;5;241;43m.\u001b[39;49m\u001b[43mstatus\u001b[49m\u001b[43m(\u001b[49m\u001b[43mthrow_except\u001b[49m\u001b[38;5;241;43m=\u001b[39;49m\u001b[43mthrow_except\u001b[49m\u001b[43m,\u001b[49m\u001b[43m \u001b[49m\u001b[43minternal_storage\u001b[49m\u001b[38;5;241;43m=\u001b[39;49m\u001b[43minternal_storage\u001b[49m\u001b[43m)\u001b[49m\n\u001b[1;32m    323\u001b[0m \u001b[38;5;28;01mif\u001b[39;00m \u001b[38;5;28mself\u001b[39m\u001b[38;5;241m.\u001b[39mdone:\n\u001b[1;32m    324\u001b[0m     \u001b[38;5;28;01mreturn\u001b[39;00m \u001b[38;5;28mself\u001b[39m\u001b[38;5;241m.\u001b[39m_return_val\n",
      "File \u001b[0;32m~/anaconda3/envs/geospatial/lib/python3.9/site-packages/lithops/future.py:256\u001b[0m, in \u001b[0;36mResponseFuture.status\u001b[0;34m(self, throw_except, internal_storage, check_only)\u001b[0m\n\u001b[1;32m    254\u001b[0m \u001b[38;5;28;01mif\u001b[39;00m throw_except:\n\u001b[1;32m    255\u001b[0m     sys\u001b[38;5;241m.\u001b[39mexcepthook \u001b[38;5;241m=\u001b[39m exception_hook\n\u001b[0;32m--> 256\u001b[0m     \u001b[43mreraise\u001b[49m\u001b[43m(\u001b[49m\u001b[38;5;241;43m*\u001b[39;49m\u001b[38;5;28;43mself\u001b[39;49m\u001b[38;5;241;43m.\u001b[39;49m\u001b[43m_exception\u001b[49m\u001b[43m)\u001b[49m\n\u001b[1;32m    257\u001b[0m \u001b[38;5;28;01melse\u001b[39;00m:\n\u001b[1;32m    258\u001b[0m     logger\u001b[38;5;241m.\u001b[39mwarning(msg1)\n",
      "File \u001b[0;32m~/anaconda3/envs/geospatial/lib/python3.9/site-packages/six.py:719\u001b[0m, in \u001b[0;36mreraise\u001b[0;34m(tp, value, tb)\u001b[0m\n\u001b[1;32m    717\u001b[0m     \u001b[38;5;28;01mif\u001b[39;00m value\u001b[38;5;241m.\u001b[39m__traceback__ \u001b[38;5;129;01mis\u001b[39;00m \u001b[38;5;129;01mnot\u001b[39;00m tb:\n\u001b[1;32m    718\u001b[0m         \u001b[38;5;28;01mraise\u001b[39;00m value\u001b[38;5;241m.\u001b[39mwith_traceback(tb)\n\u001b[0;32m--> 719\u001b[0m     \u001b[38;5;28;01mraise\u001b[39;00m value\n\u001b[1;32m    720\u001b[0m \u001b[38;5;28;01mfinally\u001b[39;00m:\n\u001b[1;32m    721\u001b[0m     value \u001b[38;5;241m=\u001b[39m \u001b[38;5;28;01mNone\u001b[39;00m\n",
      "File \u001b[0;32m/function/lithops/worker/handler.py:193\u001b[0m, in \u001b[0;36mrun_job\u001b[0;34m()\u001b[0m\n",
      "\u001b[0;31mTimeoutError\u001b[0m: Function exceeded maximum time of 25 seconds and was killed"
     ]
    }
   ],
   "source": [
    "fs = fexec.map(compute_ndvi_diff, iterdata)\n",
    "results = fexec.get_result(fs=fs)"
   ]
  },
  {
   "cell_type": "code",
   "execution_count": null,
   "metadata": {},
   "outputs": [],
   "source": [
    "grouped_results = collections.defaultdict(list)\n",
    "\n",
    "for res in results:\n",
    "    key, ij_window, co_jpg_f1, co_jpg_f2, co_jpg_diff = res\n",
    "    grouped_results[key].append((ij_window, co_jpg_f1, co_jpg_f2, co_jpg_diff))"
   ]
  },
  {
   "cell_type": "markdown",
   "metadata": {},
   "source": [
    "## Get and plot the computed jpg diff tile image"
   ]
  },
  {
   "cell_type": "code",
   "execution_count": null,
   "metadata": {
    "scrolled": true
   },
   "outputs": [],
   "source": [
    "def get_jpg(data):\n",
    "    file = '_'.join(data[0][1].key.split('_')[:5])\n",
    "    \n",
    "    if 'DIFF' in data[0][1].key:\n",
    "        out_file = f'AwsData/{file}_NDVI_DIFF.jpg'\n",
    "    else:\n",
    "        out_file = f'AwsData/{file}_NDVI.jpg'\n",
    "        \n",
    "    jpgs = {}\n",
    "\n",
    "    def get_window(data):\n",
    "        ij_window, co_jpg = data\n",
    "        row = ij_window[0][0]\n",
    "        col = ij_window[0][1]\n",
    "        jpg_stream = fexec.storage.get_cloudobject(co_jpg, stream=True)\n",
    "\n",
    "        if row not in jpgs:\n",
    "            jpgs[row] = [None]*11\n",
    "\n",
    "        jpgs[row][col] = Image.open(jpg_stream)\n",
    "\n",
    "    with ThreadPoolExecutor(max_workers=16) as ex:\n",
    "        fs = list(ex.map(get_window, data))\n",
    "\n",
    "    new_im = Image.new('RGB', (scene_band.width, scene_band.height))\n",
    "\n",
    "    x_offset = 0\n",
    "    y_offset = 0\n",
    "\n",
    "    for row in sorted(jpgs.keys()):\n",
    "        for im in jpgs[row]:\n",
    "            new_im.paste(im, (x_offset, y_offset))\n",
    "            x_offset += im.size[0]\n",
    "        x_offset = 0\n",
    "        y_offset += im.size[1]\n",
    "        \n",
    "    thumbnail_zise = (640, 640)\n",
    "    new_im.thumbnail(thumbnail_zise)\n",
    "\n",
    "    # fig = plt.figure(figsize=(10, 10))\n",
    "    # plt.title(out_file)\n",
    "    # plt.imshow(new_im)\n",
    "    images[out_file] = new_im"
   ]
  },
  {
   "cell_type": "code",
   "execution_count": null,
   "metadata": {},
   "outputs": [],
   "source": [
    "co_jpgs_f1 = [(res[0], res[1]) for res in grouped_results['S2A_10SEH']]\n",
    "co_jpgs_f2 = [(res[0], res[2]) for res in grouped_results['S2A_10SEH']]\n",
    "co_jpgs_diff = [(res[0], res[3]) for res in grouped_results['S2A_10SEH']]\n",
    "\n",
    "images = {}\n",
    "with ThreadPoolExecutor(max_workers=3) as ex:\n",
    "    fs = list(ex.map(get_jpg, [co_jpgs_f1, co_jpgs_f2, co_jpgs_diff]))\n",
    "\n",
    "f, ax = plt.subplots(1,3, figsize=(18, 18))\n",
    "i = 0\n",
    "for j in sorted(images.keys()):\n",
    "    ax[i].set_title(j)\n",
    "    ax[i].imshow(images[j])\n",
    "    i = i+1\n",
    "plt.show() "
   ]
  },
  {
   "cell_type": "code",
   "execution_count": null,
   "metadata": {},
   "outputs": [],
   "source": [
    "fexec.plot(fs=fs, dst=fexec.executor_id)"
   ]
  },
  {
   "cell_type": "code",
   "execution_count": null,
   "metadata": {},
   "outputs": [],
   "source": [
    "display.Image(filename=f'{fexec.executor_id}_timeline.png')"
   ]
  },
  {
   "cell_type": "code",
   "execution_count": null,
   "metadata": {},
   "outputs": [],
   "source": [
    "display.Image(filename=f'{fexec.executor_id}_histogram.png')"
   ]
  },
  {
   "cell_type": "code",
   "execution_count": null,
   "metadata": {},
   "outputs": [],
   "source": [
    "import boto3"
   ]
  },
  {
   "cell_type": "code",
   "execution_count": null,
   "metadata": {},
   "outputs": [],
   "source": [
    "s3client = boto3.client('s3')"
   ]
  },
  {
   "cell_type": "code",
   "execution_count": null,
   "metadata": {},
   "outputs": [],
   "source": [
    "total_sz = 0\n",
    "\n",
    "for scenes in [scenes_f1_all, scenes_f2_all]:\n",
    "    for scene in scenes:\n",
    "        for band in scene:\n",
    "            bucket, key = band.split('/', 1)\n",
    "            meta = s3client.head_object(Bucket=bucket, Key=key)\n",
    "            total_sz += int(meta['ResponseMetadata']['HTTPHeaders']['content-length'])"
   ]
  },
  {
   "cell_type": "code",
   "execution_count": null,
   "metadata": {},
   "outputs": [],
   "source": [
    "total_sz"
   ]
  },
  {
   "cell_type": "code",
   "execution_count": null,
   "metadata": {},
   "outputs": [],
   "source": [
    "stats = [f.stats for f in fexec.futures]"
   ]
  },
  {
   "cell_type": "code",
   "execution_count": null,
   "metadata": {},
   "outputs": [],
   "source": [
    "mean_exec_time = np.mean([stat['worker_func_exec_time'] for stat in stats])"
   ]
  },
  {
   "cell_type": "code",
   "execution_count": null,
   "metadata": {},
   "outputs": [],
   "source": [
    "throughput = (total_sz / 1_000_000_000) / mean_exec_time"
   ]
  },
  {
   "cell_type": "code",
   "execution_count": null,
   "metadata": {},
   "outputs": [],
   "source": [
    "print(f'Procesed {math.ceil(total_sz / 1_000_000_000)} GB in {mean_exec_time} s => {throughput} GB/s')"
   ]
  }
 ],
 "metadata": {
  "kernelspec": {
   "display_name": "cloudbutton-geospatial",
   "language": "python",
   "name": "cloudbutton-geospatial"
  },
  "language_info": {
   "codemirror_mode": {
    "name": "ipython",
    "version": 3
   },
   "file_extension": ".py",
   "mimetype": "text/x-python",
   "name": "python",
   "nbconvert_exporter": "python",
   "pygments_lexer": "ipython3",
   "version": "3.9.12"
  }
 },
 "nbformat": 4,
 "nbformat_minor": 4
}
